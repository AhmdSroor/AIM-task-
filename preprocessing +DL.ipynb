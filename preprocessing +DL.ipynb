{
 "cells": [
  {
   "cell_type": "code",
   "execution_count": null,
   "metadata": {
    "id": "x756A9HNincu"
   },
   "outputs": [],
   "source": [
    "import numpy as np\n",
    "import pandas as pd\n",
    "import feather"
   ]
  },
  {
   "cell_type": "code",
   "execution_count": null,
   "metadata": {
    "colab": {
     "base_uri": "https://localhost:8080/",
     "height": 206
    },
    "id": "2mAv0Sf7inc3",
    "outputId": "25ea47e6-5727-4878-fa94-d3da22dffdad"
   },
   "outputs": [],
   "source": [
    "df = pd.read_feather('id_text_dialect.feather')\n",
    "df.head()"
   ]
  },
  {
   "cell_type": "code",
   "execution_count": null,
   "metadata": {
    "colab": {
     "base_uri": "https://localhost:8080/"
    },
    "id": "TblLqM9Winc5",
    "outputId": "892f503a-3464-47e9-b6be-71be175f3b5b"
   },
   "outputs": [],
   "source": [
    "df.shape"
   ]
  },
  {
   "cell_type": "code",
   "execution_count": null,
   "metadata": {
    "colab": {
     "base_uri": "https://localhost:8080/"
    },
    "id": "GcDzd9pOinc6",
    "outputId": "38ec0f51-c6a0-40f0-85f6-47435909c513"
   },
   "outputs": [],
   "source": [
    "df.dialect.nunique()"
   ]
  },
  {
   "cell_type": "code",
   "execution_count": null,
   "metadata": {
    "colab": {
     "base_uri": "https://localhost:8080/"
    },
    "id": "zAZruDn2inc7",
    "outputId": "d2b0f113-d42a-44f0-ab6f-f3e1ce9a2b74"
   },
   "outputs": [],
   "source": [
    "df.dialect.unique()"
   ]
  },
  {
   "cell_type": "code",
   "execution_count": null,
   "metadata": {
    "colab": {
     "base_uri": "https://localhost:8080/"
    },
    "id": "DgUdgZ86inc8",
    "outputId": "3e4a2a49-f8c9-4c23-feec-f955801e456b"
   },
   "outputs": [],
   "source": [
    "df['dialect'].value_counts()"
   ]
  },
  {
   "cell_type": "code",
   "execution_count": null,
   "metadata": {
    "colab": {
     "base_uri": "https://localhost:8080/"
    },
    "id": "FQU9Wx0Sinc9",
    "outputId": "64479fa1-d37a-4976-8cef-e69517e34dc9"
   },
   "outputs": [],
   "source": [
    "df.id.duplicated().sum()"
   ]
  },
  {
   "cell_type": "code",
   "execution_count": null,
   "metadata": {
    "colab": {
     "base_uri": "https://localhost:8080/"
    },
    "id": "HAVMEAyeinc-",
    "outputId": "0d3f3499-fc8c-4505-8ccf-56f831985719"
   },
   "outputs": [],
   "source": [
    "df.isnull().sum()"
   ]
  },
  {
   "cell_type": "code",
   "execution_count": null,
   "metadata": {
    "colab": {
     "base_uri": "https://localhost:8080/",
     "height": 206
    },
    "id": "k_iCTA9rinc_",
    "outputId": "0948a6c6-ee1d-4d21-df4d-7a0687f5ab69"
   },
   "outputs": [],
   "source": [
    "df1 = df[['text', 'dialect']\n",
    "df1.head()"
   ]
  },
  {
   "cell_type": "code",
   "execution_count": null,
   "metadata": {
    "id": "XNoxH_UUindA"
   },
   "outputs": [],
   "source": [
    "import re\n",
    "emoji_pattern = re.compile(\"[\"\n",
    "        u\"\\U0001F600-\\U0001F64F\"  # emoticons\n",
    "        u\"\\U0001F300-\\U0001F5FF\"  # symbols & pictographs\n",
    "        u\"\\U0001F680-\\U0001F6FF\"  # transport & map symbols\n",
    "        u\"\\U0001F1E0-\\U0001F1FF\"  # flags (iOS)\n",
    "                           \"]+\", flags=re.UNICODE)\n",
    "def clean(line, tag = False):\n",
    "    #Remove links, hashtags, at-mentions, mark-up, and \"RT\"\n",
    "    line = re.sub(r\"http\\S+\", \"\", line)\n",
    "    line = re.sub(r\"@\\S+\", \"\", line)\n",
    "    line = re.sub(r\"#\\S+\", \"\", line)\n",
    "    line = re.sub(\"<[^>]*>\", \"\", line)\n",
    "    line = line.replace(\" RT\", \"\").replace(\"RT \", \"\")\n",
    "    line = re.sub(emoji_pattern, \"\", line)\n",
    "\n",
    "    return line"
   ]
  },
  {
   "cell_type": "code",
   "execution_count": null,
   "metadata": {
    "colab": {
     "base_uri": "https://localhost:8080/",
     "height": 35
    },
    "id": "3MgmPPnSindC",
    "outputId": "f989b976-5ebd-4f64-b745-5b421efe6f2a"
   },
   "outputs": [],
   "source": [
    "df1.iloc[3].text"
   ]
  },
  {
   "cell_type": "code",
   "execution_count": null,
   "metadata": {
    "colab": {
     "base_uri": "https://localhost:8080/",
     "height": 35
    },
    "id": "1L5HyUf9indD",
    "outputId": "94dbe260-0ee0-4b62-de2f-dd22293d27e0"
   },
   "outputs": [],
   "source": [
    "clean(df1.iloc[3].text)"
   ]
  },
  {
   "cell_type": "code",
   "execution_count": null,
   "metadata": {
    "colab": {
     "base_uri": "https://localhost:8080/"
    },
    "id": "WQ6t42FMindE",
    "outputId": "4cf5792e-d285-4945-926f-3171a4415c23"
   },
   "outputs": [],
   "source": [
    "df1['text'] = df1['text'].map(clean)"
   ]
  },
  {
   "cell_type": "code",
   "execution_count": null,
   "metadata": {
    "colab": {
     "base_uri": "https://localhost:8080/",
     "height": 206
    },
    "id": "V4A29tXwindF",
    "outputId": "db448a48-c620-4b1d-aaf6-143e518cf610"
   },
   "outputs": [],
   "source": [
    "df1.head()"
   ]
  },
  {
   "cell_type": "code",
   "execution_count": null,
   "metadata": {
    "id": "U0I1KVnbindG"
   },
   "outputs": [],
   "source": [
    "import sklearn \n",
    "from sklearn import metrics\n",
    "from sklearn.metrics import accuracy_score\n",
    "from sklearn.metrics import precision_score\n",
    "from sklearn.metrics import recall_score\n",
    "from sklearn.feature_extraction.text import TfidfVectorizer\n",
    "from sklearn.linear_model import SGDClassifier\n",
    "from sklearn.naive_bayes import MultinomialNB\n",
    "from sklearn.svm import LinearSVC\n",
    "from sklearn.metrics import classification_report\n",
    "from sklearn.metrics import confusion_matrix\n",
    "import random"
   ]
  },
  {
   "cell_type": "code",
   "execution_count": null,
   "metadata": {},
   "outputs": [],
   "source": [
    "X = df1.text\n",
    "y = df1.dialect"
   ]
  },
  {
   "cell_type": "code",
   "execution_count": null,
   "metadata": {
    "id": "R1LGSwwDindH"
   },
   "outputs": [],
   "source": [
    "from sklearn.model_selection import train_test_split\n",
    "SEED = 2000\n",
    "X_train, X_test, y_train, y_test = train_test_split(X, y, test_size = 0.2, random_state = 0)\n"
   ]
  },
  {
   "cell_type": "code",
   "execution_count": null,
   "metadata": {
    "id": "aB0vgknEindI"
   },
   "outputs": [],
   "source": [
    "from sklearn.feature_extraction.text import TfidfVectorizer\n",
    "vectorizer = TfidfVectorizer(max_features=100000,ngram_range=(1, 3))"
   ]
  },
  {
   "cell_type": "code",
   "execution_count": null,
   "metadata": {
    "colab": {
     "base_uri": "https://localhost:8080/"
    },
    "id": "534923wpindJ",
    "outputId": "4110e70f-de94-44ad-d7e4-d16df0878860"
   },
   "outputs": [],
   "source": [
    "vectorizer.fit(X_train)"
   ]
  },
  {
   "cell_type": "code",
   "execution_count": null,
   "metadata": {
    "id": "3LmbK_HMindJ"
   },
   "outputs": [],
   "source": [
    "x_train = vectorizer.transform(X_train)\n",
    "x_test = vectorizer.transform(X_test).toarray()"
   ]
  },
  {
   "cell_type": "code",
   "execution_count": null,
   "metadata": {},
   "outputs": [],
   "source": [
    "seed = 7\n",
    "np.random.seed(seed)\n",
    "import tensorflow as tf\n",
    "from keras.models import Sequential\n",
    "from keras.layers import Dense, Dropout\n",
    "from keras.layers import Flatten\n",
    "from keras.layers.embeddings import Embedding\n",
    "from keras.preprocessing import sequence"
   ]
  },
  {
   "cell_type": "code",
   "execution_count": null,
   "metadata": {
    "id": "PnKbaMyPindK"
   },
   "outputs": [],
   "source": [
    "def batch_generator(X_data, y_data, batch_size):\n",
    "    samples_per_epoch = X_data.shape[0]\n",
    "    number_of_batches = samples_per_epoch/batch_size\n",
    "    counter=0\n",
    "    index = np.arange(np.shape(y_data)[0])\n",
    "    while 1:\n",
    "        index_batch = index[batch_size*counter:batch_size*(counter+1)]\n",
    "        X_batch = X_data[index_batch,:].toarray()\n",
    "        y_batch = y_data[y_data.index[index_batch]]\n",
    "        counter += 1\n",
    "        yield np.array(X_batch),np.array(y_batch)\n",
    "        if (counter > number_of_batches):\n",
    "            counter=0\n",
    "            \n",
    "\n",
    "\n"
   ]
  },
  {
   "cell_type": "code",
   "execution_count": null,
   "metadata": {
    "id": "SZof5urAindL"
   },
   "outputs": [],
   "source": [
    "model = Sequential()\n",
    "model.add(Dense(64, activation='relu', input_dim=100000))\n",
    "model.add(Dense(1, activation='sigmoid'))\n",
    "model.compile(optimizer='adam',\n",
    "              loss='binary_crossentropy',\n",
    "              metrics=['accuracy'])\n",
    "\n",
    "model.fit_generator(generator=batch_generator(x_train, y_train, 32),\n",
    "                    epochs=5,\n",
    "                    steps_per_epoch=tf.strings.to_number(x_train.shape[0], out_type=tf.float32)/32)\n"
   ]
  },
  {
   "cell_type": "code",
   "execution_count": null,
   "metadata": {
    "id": "KAh_IODUindM"
   },
   "outputs": [],
   "source": [
    "print(classification_report(y_test, y_train))"
   ]
  },
  {
   "cell_type": "code",
   "execution_count": null,
   "metadata": {
    "id": "l7_JJ8sYindN"
   },
   "outputs": [],
   "source": [
    "accuracy_score(y_test, y_train)"
   ]
  }
 ],
 "metadata": {
  "colab": {
   "collapsed_sections": [],
   "name": "preprocessing + DL .ipynb",
   "provenance": []
  },
  "kernelspec": {
   "display_name": "Python 3",
   "language": "python",
   "name": "python3"
  },
  "language_info": {
   "codemirror_mode": {
    "name": "ipython",
    "version": 3
   },
   "file_extension": ".py",
   "mimetype": "text/x-python",
   "name": "python",
   "nbconvert_exporter": "python",
   "pygments_lexer": "ipython3",
   "version": "3.7.6"
  }
 },
 "nbformat": 4,
 "nbformat_minor": 1
}
